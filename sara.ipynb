{
 "cells": [
  {
   "cell_type": "code",
   "execution_count": 65,
   "metadata": {},
   "outputs": [],
   "source": [
    "import rasterio\n",
    "import rasterio.features\n",
    "import fiona\n",
    "from shapely.geometry import shape, Polygon\n",
    "import numpy as np\n",
    "import geopandas as gdp"
   ]
  },
  {
   "cell_type": "code",
   "execution_count": 73,
   "metadata": {},
   "outputs": [
    {
     "name": "stdout",
     "output_type": "stream",
     "text": [
      "Polygon ([[(-122.3978768111497, 41.49975342968751), (-122.39782667978395, 41.49975342968751), (-122.39782667978395, 41.499728206250005), (-122.3978099693287, 41.499728206250005), (-122.3978099693287, 41.49965253593751), (-122.39782667978395, 41.49965253593751), (-122.39782667978395, 41.49962731250001), (-122.39789352160494, 41.49962731250001), (-122.39789352160494, 41.499677759375004), (-122.39791023206018, 41.499677759375004), (-122.39791023206018, 41.49974081796876), (-122.3978768111497, 41.49974081796876), (-122.3978768111497, 41.49975342968751)]])\n"
     ]
    },
    {
     "ename": "TypeError",
     "evalue": "Input must be valid geometry objects: Polygon ([[(-122.3978768111497, 41.49975342968751), (-122.39782667978395, 41.49975342968751), (-122.39782667978395, 41.499728206250005), (-122.3978099693287, 41.499728206250005), (-122.3978099693287, 41.49965253593751), (-122.39782667978395, 41.49965253593751), (-122.39782667978395, 41.49962731250001), (-122.39789352160494, 41.49962731250001), (-122.39789352160494, 41.499677759375004), (-122.39791023206018, 41.499677759375004), (-122.39791023206018, 41.49974081796876), (-122.3978768111497, 41.49974081796876), (-122.3978768111497, 41.49975342968751)]])",
     "output_type": "error",
     "traceback": [
      "\u001b[0;31m---------------------------------------------------------------------------\u001b[0m",
      "\u001b[0;31mTypeError\u001b[0m                                 Traceback (most recent call last)",
      "Cell \u001b[0;32mIn[73], line 22\u001b[0m\n\u001b[1;32m     17\u001b[0m     \u001b[39mall\u001b[39m\u001b[39m.\u001b[39mappend(\u001b[39mf\u001b[39m\u001b[39m'\u001b[39m\u001b[39mPolygon (\u001b[39m\u001b[39m{\u001b[39;00ma[\u001b[39m\"\u001b[39m\u001b[39mcoordinates\u001b[39m\u001b[39m\"\u001b[39m]\u001b[39m}\u001b[39;00m\u001b[39m)\u001b[39m\u001b[39m'\u001b[39m)\n\u001b[1;32m     20\u001b[0m \u001b[39mprint\u001b[39m(\u001b[39mall\u001b[39m[\u001b[39m0\u001b[39m])\n\u001b[0;32m---> 22\u001b[0m gdf \u001b[39m=\u001b[39m gdp\u001b[39m.\u001b[39;49mGeoDataFrame(geometry\u001b[39m=\u001b[39;49m\u001b[39mall\u001b[39;49m)\n\u001b[1;32m     24\u001b[0m \u001b[39mprint\u001b[39m(gdf)\n",
      "File \u001b[0;32m~/opt/anaconda3/envs/wildfire/lib/python3.9/site-packages/geopandas/geodataframe.py:188\u001b[0m, in \u001b[0;36mGeoDataFrame.__init__\u001b[0;34m(self, data, geometry, crs, *args, **kwargs)\u001b[0m\n\u001b[1;32m    180\u001b[0m     \u001b[39mif\u001b[39;00m (\n\u001b[1;32m    181\u001b[0m         \u001b[39mhasattr\u001b[39m(geometry, \u001b[39m\"\u001b[39m\u001b[39mcrs\u001b[39m\u001b[39m\"\u001b[39m)\n\u001b[1;32m    182\u001b[0m         \u001b[39mand\u001b[39;00m geometry\u001b[39m.\u001b[39mcrs\n\u001b[1;32m    183\u001b[0m         \u001b[39mand\u001b[39;00m crs\n\u001b[1;32m    184\u001b[0m         \u001b[39mand\u001b[39;00m \u001b[39mnot\u001b[39;00m geometry\u001b[39m.\u001b[39mcrs \u001b[39m==\u001b[39m crs\n\u001b[1;32m    185\u001b[0m     ):\n\u001b[1;32m    186\u001b[0m         \u001b[39mraise\u001b[39;00m \u001b[39mValueError\u001b[39;00m(crs_mismatch_error)\n\u001b[0;32m--> 188\u001b[0m     \u001b[39mself\u001b[39;49m\u001b[39m.\u001b[39;49mset_geometry(geometry, inplace\u001b[39m=\u001b[39;49m\u001b[39mTrue\u001b[39;49;00m, crs\u001b[39m=\u001b[39;49mcrs)\n\u001b[1;32m    190\u001b[0m \u001b[39mif\u001b[39;00m geometry \u001b[39mis\u001b[39;00m \u001b[39mNone\u001b[39;00m \u001b[39mand\u001b[39;00m crs:\n\u001b[1;32m    191\u001b[0m     \u001b[39mraise\u001b[39;00m \u001b[39mValueError\u001b[39;00m(\n\u001b[1;32m    192\u001b[0m         \u001b[39m\"\u001b[39m\u001b[39mAssigning CRS to a GeoDataFrame without a geometry column is not \u001b[39m\u001b[39m\"\u001b[39m\n\u001b[1;32m    193\u001b[0m         \u001b[39m\"\u001b[39m\u001b[39msupported. Supply geometry using the \u001b[39m\u001b[39m'\u001b[39m\u001b[39mgeometry=\u001b[39m\u001b[39m'\u001b[39m\u001b[39m keyword argument, \u001b[39m\u001b[39m\"\u001b[39m\n\u001b[1;32m    194\u001b[0m         \u001b[39m\"\u001b[39m\u001b[39mor by providing a DataFrame with column name \u001b[39m\u001b[39m'\u001b[39m\u001b[39mgeometry\u001b[39m\u001b[39m'\u001b[39m\u001b[39m\"\u001b[39m,\n\u001b[1;32m    195\u001b[0m     )\n",
      "File \u001b[0;32m~/opt/anaconda3/envs/wildfire/lib/python3.9/site-packages/geopandas/geodataframe.py:346\u001b[0m, in \u001b[0;36mGeoDataFrame.set_geometry\u001b[0;34m(self, col, drop, inplace, crs)\u001b[0m\n\u001b[1;32m    343\u001b[0m     level\u001b[39m.\u001b[39mcrs \u001b[39m=\u001b[39m crs\n\u001b[1;32m    345\u001b[0m \u001b[39m# Check that we are using a listlike of geometries\u001b[39;00m\n\u001b[0;32m--> 346\u001b[0m level \u001b[39m=\u001b[39m _ensure_geometry(level, crs\u001b[39m=\u001b[39;49mcrs)\n\u001b[1;32m    347\u001b[0m frame[geo_column_name] \u001b[39m=\u001b[39m level\n\u001b[1;32m    348\u001b[0m frame\u001b[39m.\u001b[39m_geometry_column_name \u001b[39m=\u001b[39m geo_column_name\n",
      "File \u001b[0;32m~/opt/anaconda3/envs/wildfire/lib/python3.9/site-packages/geopandas/geodataframe.py:62\u001b[0m, in \u001b[0;36m_ensure_geometry\u001b[0;34m(data, crs)\u001b[0m\n\u001b[1;32m     60\u001b[0m     \u001b[39mreturn\u001b[39;00m GeoSeries(out, index\u001b[39m=\u001b[39mdata\u001b[39m.\u001b[39mindex, name\u001b[39m=\u001b[39mdata\u001b[39m.\u001b[39mname)\n\u001b[1;32m     61\u001b[0m \u001b[39melse\u001b[39;00m:\n\u001b[0;32m---> 62\u001b[0m     out \u001b[39m=\u001b[39m from_shapely(data, crs\u001b[39m=\u001b[39;49mcrs)\n\u001b[1;32m     63\u001b[0m     \u001b[39mreturn\u001b[39;00m out\n",
      "File \u001b[0;32m~/opt/anaconda3/envs/wildfire/lib/python3.9/site-packages/geopandas/array.py:154\u001b[0m, in \u001b[0;36mfrom_shapely\u001b[0;34m(data, crs)\u001b[0m\n\u001b[1;32m    138\u001b[0m \u001b[39mdef\u001b[39;00m \u001b[39mfrom_shapely\u001b[39m(data, crs\u001b[39m=\u001b[39m\u001b[39mNone\u001b[39;00m):\n\u001b[1;32m    139\u001b[0m \u001b[39m    \u001b[39m\u001b[39m\"\"\"\u001b[39;00m\n\u001b[1;32m    140\u001b[0m \u001b[39m    Convert a list or array of shapely objects to a GeometryArray.\u001b[39;00m\n\u001b[1;32m    141\u001b[0m \n\u001b[0;32m   (...)\u001b[0m\n\u001b[1;32m    152\u001b[0m \n\u001b[1;32m    153\u001b[0m \u001b[39m    \"\"\"\u001b[39;00m\n\u001b[0;32m--> 154\u001b[0m     \u001b[39mreturn\u001b[39;00m GeometryArray(vectorized\u001b[39m.\u001b[39;49mfrom_shapely(data), crs\u001b[39m=\u001b[39mcrs)\n",
      "File \u001b[0;32m~/opt/anaconda3/envs/wildfire/lib/python3.9/site-packages/geopandas/_vectorized.py:145\u001b[0m, in \u001b[0;36mfrom_shapely\u001b[0;34m(data)\u001b[0m\n\u001b[1;32m    143\u001b[0m         out\u001b[39m.\u001b[39mappend(\u001b[39mNone\u001b[39;00m)\n\u001b[1;32m    144\u001b[0m     \u001b[39melse\u001b[39;00m:\n\u001b[0;32m--> 145\u001b[0m         \u001b[39mraise\u001b[39;00m \u001b[39mTypeError\u001b[39;00m(\u001b[39m\"\u001b[39m\u001b[39mInput must be valid geometry objects: \u001b[39m\u001b[39m{0}\u001b[39;00m\u001b[39m\"\u001b[39m\u001b[39m.\u001b[39mformat(geom))\n\u001b[1;32m    147\u001b[0m \u001b[39mif\u001b[39;00m compat\u001b[39m.\u001b[39mUSE_PYGEOS:\n\u001b[1;32m    148\u001b[0m     \u001b[39mreturn\u001b[39;00m np\u001b[39m.\u001b[39marray(out, dtype\u001b[39m=\u001b[39m\u001b[39mobject\u001b[39m)\n",
      "\u001b[0;31mTypeError\u001b[0m: Input must be valid geometry objects: Polygon ([[(-122.3978768111497, 41.49975342968751), (-122.39782667978395, 41.49975342968751), (-122.39782667978395, 41.499728206250005), (-122.3978099693287, 41.499728206250005), (-122.3978099693287, 41.49965253593751), (-122.39782667978395, 41.49965253593751), (-122.39782667978395, 41.49962731250001), (-122.39789352160494, 41.49962731250001), (-122.39789352160494, 41.499677759375004), (-122.39791023206018, 41.499677759375004), (-122.39791023206018, 41.49974081796876), (-122.3978768111497, 41.49974081796876), (-122.3978768111497, 41.49975342968751)]])"
     ]
    }
   ],
   "source": [
    "with rasterio.open('/Users/sarahauser/FHNW/4_Semester/GeoHack/GeoHack23-WildfirePerimeter/data/LWIR_QuickMosaic_16-bit_9327.tiff', 'r') as src:\n",
    "    data = src.read(1)\n",
    "\n",
    "\n",
    "    transform = src.transform\n",
    "    crs = src.crs\n",
    "\n",
    "    mask = (data < 35000).astype(np.uint8)\n",
    "    shapes = rasterio.features.shapes(mask, transform=transform)\n",
    "\n",
    "\n",
    "\n",
    "\n",
    "    all = []\n",
    "    for polygon in shapes:\n",
    "        a = (polygon[0])\n",
    "        all.append(f'Polygon ({a[\"coordinates\"]})')\n",
    "\n",
    "\n",
    "    print(all[0])\n",
    "\n",
    "    gdf = gdp.GeoDataFrame(geometry=all)\n",
    "\n",
    "    print(gdf)"
   ]
  }
 ],
 "metadata": {
  "kernelspec": {
   "display_name": "wildfire",
   "language": "python",
   "name": "python3"
  },
  "language_info": {
   "codemirror_mode": {
    "name": "ipython",
    "version": 3
   },
   "file_extension": ".py",
   "mimetype": "text/x-python",
   "name": "python",
   "nbconvert_exporter": "python",
   "pygments_lexer": "ipython3",
   "version": "3.9.16"
  },
  "orig_nbformat": 4
 },
 "nbformat": 4,
 "nbformat_minor": 2
}
