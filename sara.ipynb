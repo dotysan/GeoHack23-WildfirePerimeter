{
 "cells": [
  {
   "cell_type": "code",
   "execution_count": 1,
   "metadata": {},
   "outputs": [],
   "source": [
    "import rasterio\n",
    "import rasterio.features\n",
    "import fiona\n",
    "from shapely.geometry import shape, Polygon\n",
    "import numpy as np\n",
    "import geopandas as gpd"
   ]
  },
  {
   "cell_type": "code",
   "execution_count": 2,
   "metadata": {},
   "outputs": [
    {
     "name": "stdout",
     "output_type": "stream",
     "text": [
      "{'type': 'Polygon', 'coordinates': [[(-122.3978768111497, 41.49975342968751), (-122.39782667978395, 41.49975342968751), (-122.39782667978395, 41.499728206250005), (-122.3978099693287, 41.499728206250005), (-122.3978099693287, 41.49965253593751), (-122.39782667978395, 41.49965253593751), (-122.39782667978395, 41.49962731250001), (-122.39789352160494, 41.49962731250001), (-122.39789352160494, 41.499677759375004), (-122.39791023206018, 41.499677759375004), (-122.39791023206018, 41.49974081796876), (-122.3978768111497, 41.49974081796876), (-122.3978768111497, 41.49975342968751)]]}\n",
      "                                               geometry\n",
      "0     {'type': 'Polygon', 'coordinates': [[(-122.397...\n",
      "1     {'type': 'Polygon', 'coordinates': [[(-122.398...\n",
      "2     {'type': 'Polygon', 'coordinates': [[(-122.397...\n",
      "3     {'type': 'Polygon', 'coordinates': [[(-122.397...\n",
      "4     {'type': 'Polygon', 'coordinates': [[(-122.398...\n",
      "...                                                 ...\n",
      "7958  {'type': 'Polygon', 'coordinates': [[(-122.385...\n",
      "7959  {'type': 'Polygon', 'coordinates': [[(-122.385...\n",
      "7960  {'type': 'Polygon', 'coordinates': [[(-122.384...\n",
      "7961  {'type': 'Polygon', 'coordinates': [[(-122.385...\n",
      "7962  {'type': 'Polygon', 'coordinates': [[(-122.446...\n",
      "\n",
      "[7963 rows x 1 columns]\n"
     ]
    }
   ],
   "source": [
    "with rasterio.open('/Users/sarahauser/FHNW/4_Semester/GeoHack/GeoHack23-WildfirePerimeter/data/LWIR_QuickMosaic_16-bit_9327.tiff', 'r') as src:\n",
    "    data = src.read(1)\n",
    "\n",
    "\n",
    "    transform = src.transform\n",
    "    crs = src.crs\n",
    "\n",
    "    mask = (data < 35000).astype(np.uint8)\n",
    "    shapes = rasterio.features.shapes(mask, transform=transform)\n",
    "\n",
    "    all = []\n",
    "    for polygon in shapes:\n",
    "        a = (polygon[0])\n",
    "        all.append(a)\n",
    "\n",
    "    print(all[0])\n",
    "\n",
    "    gdf = gpd.GeoDataFrame({'geometry':all})\n",
    "\n",
    "    print(gdf)"
   ]
  },
  {
   "cell_type": "code",
   "execution_count": null,
   "metadata": {},
   "outputs": [],
   "source": []
  }
 ],
 "metadata": {
  "kernelspec": {
   "display_name": "wildfire",
   "language": "python",
   "name": "python3"
  },
  "language_info": {
   "codemirror_mode": {
    "name": "ipython",
    "version": 3
   },
   "file_extension": ".py",
   "mimetype": "text/x-python",
   "name": "python",
   "nbconvert_exporter": "python",
   "pygments_lexer": "ipython3",
   "version": "3.9.16"
  },
  "orig_nbformat": 4
 },
 "nbformat": 4,
 "nbformat_minor": 2
}
