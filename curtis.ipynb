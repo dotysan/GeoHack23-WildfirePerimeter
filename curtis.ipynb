{
 "cells": [
  {
   "attachments": {},
   "cell_type": "markdown",
   "metadata": {},
   "source": [
    "Dependencies"
   ]
  },
  {
   "cell_type": "code",
   "execution_count": 12,
   "metadata": {},
   "outputs": [],
   "source": [
    "\n",
    "import numpy as np\n",
    "\n",
    "import shapely as shp\n",
    "import rasterio as rio"
   ]
  },
  {
   "cell_type": "code",
   "execution_count": 13,
   "metadata": {},
   "outputs": [],
   "source": [
    "work_dir = \"./data/\"\n",
    "image = f\"{work_dir}LWIR_QuickMosaic_16-bit_9327.tiff\""
   ]
  },
  {
   "cell_type": "code",
   "execution_count": 14,
   "metadata": {},
   "outputs": [],
   "source": [
    "with rio.open(image) as src:\n",
    "    band1 = src.read(1)\n",
    "    profile = src.profile\n",
    "\n",
    "    for thresh in range(30000, 36000, 1000):\n",
    "\n",
    "        with rio.open(f\"{work_dir}class{thresh}.tif\", 'w', **profile) as dst:\n",
    "            dst.write(np.where(band1 < thresh, 0, 1).astype(rio.uint8), 1)"
   ]
  }
 ],
 "metadata": {
  "kernelspec": {
   "display_name": "Python 3",
   "language": "python",
   "name": "python3"
  },
  "language_info": {
   "codemirror_mode": {
    "name": "ipython",
    "version": 3
   },
   "file_extension": ".py",
   "mimetype": "text/x-python",
   "name": "python",
   "nbconvert_exporter": "python",
   "pygments_lexer": "ipython3",
   "version": "3.9.16"
  },
  "orig_nbformat": 4
 },
 "nbformat": 4,
 "nbformat_minor": 2
}
