{
 "cells": [
  {
   "attachments": {},
   "cell_type": "markdown",
   "metadata": {},
   "source": [
    "Dependencies"
   ]
  },
  {
   "cell_type": "code",
   "execution_count": 4,
   "metadata": {},
   "outputs": [],
   "source": [
    "import os\n",
    "\n",
    "import numpy as np\n",
    "\n",
    "import shapely as shp\n",
    "import rasterio as rio"
   ]
  },
  {
   "cell_type": "code",
   "execution_count": 5,
   "metadata": {},
   "outputs": [],
   "source": [
    "work_dir = \"./data/\"\n",
    "image = os.path.join(work_dir, \"LWIR_QuickMosaic_16-bit_9327.tiff\")"
   ]
  },
  {
   "cell_type": "code",
   "execution_count": 9,
   "metadata": {},
   "outputs": [],
   "source": [
    "with rio.open(image) as src:\n",
    "    band1 = src.read(1)\n",
    "    profile = src.profile\n",
    "\n",
    "    class32000 = np.where(band1 < 32000, 0, 1)\n",
    "    class33000 = np.where(band1 < 33000, 0, 1)\n",
    "    class34000 = np.where(band1 < 34000, 0, 1)\n",
    "    class35000 = np.where(band1 < 35000, 0, 1)\n",
    "    class36000 = np.where(band1 < 36000, 0, 1)\n",
    "\n",
    "# raster_meta.update(dtype=rio.uint8, nodata=None)\n",
    "\n",
    "with rio.open(os.path.join(work_dir, 'class32000.tif'), 'w', **profile) as dst: #, **raster_meta) as dst:\n",
    "    dst.write(class34000.astype(rio.uint8), 1)\n",
    "with rio.open(os.path.join(work_dir, 'class33000.tif'), 'w', **profile) as dst: #, **raster_meta) as dst:\n",
    "    dst.write(class34000.astype(rio.uint8), 1)\n",
    "with rio.open(os.path.join(work_dir, 'class34000.tif'), 'w', **profile) as dst: #, **raster_meta) as dst:\n",
    "    dst.write(class34000.astype(rio.uint8), 1)\n",
    "with rio.open(os.path.join(work_dir, 'class35000.tif'), 'w', **profile) as dst: #, **raster_meta) as dst:\n",
    "    dst.write(class35000.astype(rio.uint8), 1)\n",
    "with rio.open(os.path.join(work_dir, 'class36000.tif'), 'w', **profile) as dst: #, **raster_meta) as dst:\n",
    "    dst.write(class36000.astype(rio.uint8), 1)"
   ]
  }
 ],
 "metadata": {
  "kernelspec": {
   "display_name": "Python 3",
   "language": "python",
   "name": "python3"
  },
  "language_info": {
   "codemirror_mode": {
    "name": "ipython",
    "version": 3
   },
   "file_extension": ".py",
   "mimetype": "text/x-python",
   "name": "python",
   "nbconvert_exporter": "python",
   "pygments_lexer": "ipython3",
   "version": "3.9.16"
  },
  "orig_nbformat": 4
 },
 "nbformat": 4,
 "nbformat_minor": 2
}
