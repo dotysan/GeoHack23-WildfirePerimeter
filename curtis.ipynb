{
 "cells": [
  {
   "attachments": {},
   "cell_type": "markdown",
   "metadata": {},
   "source": [
    "# Dependencies"
   ]
  },
  {
   "cell_type": "code",
   "execution_count": 2,
   "metadata": {},
   "outputs": [],
   "source": [
    "# standard libraries\n",
    "#\n",
    "import os\n",
    "\n",
    "# mathematical and scientific\n",
    "#\n",
    "import numpy as np\n",
    "# import sklearn as skl\n",
    "# from sklearn import cluster\n",
    "\n",
    "# geoprocessing libraries\n",
    "#\n",
    "# import shapely as shp\n",
    "import rasterio as rio\n",
    "from rasterio import features\n",
    "from rasterio.plot import show_hist as hist\n",
    "import fiona"
   ]
  },
  {
   "attachments": {},
   "cell_type": "markdown",
   "metadata": {},
   "source": [
    "# Data"
   ]
  },
  {
   "cell_type": "code",
   "execution_count": 3,
   "metadata": {},
   "outputs": [],
   "source": [
    "work_dir = \"./data/\"\n",
    "os.makedirs(work_dir, exist_ok=True)\n",
    "image = f\"{work_dir}LWIR_QuickMosaic_16-bit_9327.tiff\""
   ]
  },
  {
   "attachments": {},
   "cell_type": "markdown",
   "metadata": {},
   "source": [
    "# Classify"
   ]
  },
  {
   "cell_type": "code",
   "execution_count": 4,
   "metadata": {},
   "outputs": [],
   "source": [
    "with rio.open(image) as src:\n",
    "    band1 = src.read(1)\n",
    "    profile = src.profile\n",
    "\n",
    "    # for thresh in range(30000, 36000, 1000):\n",
    "    # for thresh in range(33000, 34000, 100):\n",
    "    # for thresh in range(33300, 33400, 10):\n",
    "    for thresh in range(33330, 33340, 1):\n",
    "\n",
    "        with rio.open(f\"{work_dir}class{thresh}.tif\", 'w', **profile) as dst:\n",
    "            imgarr = np.where(band1 < thresh, 0, 1)\n",
    "            # centers, indices = cluster.kmeans_plusplus(imgarr, n_clusters=8, random_state=0)\n",
    "            # print(len(centers))\n",
    "            # print(f\"{thresh}: {indices}\")\n",
    "            dst.write(imgarr.astype(rio.uint8), 1)\n",
    "    \n",
    "    # hist(src, bins=256, )\n",
    "\n",
    "# this was found manually via trial and error above for given test tiff\n",
    "fire_treshold = 33332\n",
    "# TODO: find this automatically!"
   ]
  },
  {
   "attachments": {},
   "cell_type": "markdown",
   "metadata": {},
   "source": [
    "# Aggregate Polygons"
   ]
  },
  {
   "cell_type": "code",
   "execution_count": 6,
   "metadata": {},
   "outputs": [
    {
     "name": "stdout",
     "output_type": "stream",
     "text": [
      "{'driver': 'GTiff', 'dtype': 'uint16', 'nodata': None, 'width': 5184, 'height': 12800, 'count': 1, 'crs': CRS.from_epsg(4326), 'transform': Affine(1.671045524691221e-05, 0.0, -122.446287,\n",
      "       0.0, -1.2611718749999667e-05, 41.553101000000005), 'blockxsize': 256, 'blockysize': 256, 'tiled': True, 'compress': 'deflate', 'interleave': 'band'}\n"
     ]
    }
   ],
   "source": [
    "best = f\"{work_dir}class{fire_treshold}.tif\"\n",
    "with rio.open(best) as src:\n",
    "    band1 = src.read(1)\n",
    "    profile = src.profile\n",
    "    print(profile)\n",
    "\n",
    "    #imgarr = np.where(band1 < thresh, 0, 1)\n",
    "    #imgarr_uint8 = imgarr.astype(rio.uint8)\n",
    "\n",
    "    # Convert the classified raster to polygons\n",
    "    shapes = features.shapes(band1, transform=profile['transform'])\n",
    "\n",
    "with fiona.open(f\"{work_dir}class{fire_treshold}.shp\", 'w', 'ESRI Shapefile',\n",
    "                crs=fiona.crs.from_epsg(4326), # this is needed to create prj file\n",
    "                # crs=fiona.crs.from_epsg(26910), # NAD83 UTM zone 10N THIS FAILS!\n",
    "                schema={'geometry': 'Polygon', 'properties': {}}) as dst:\n",
    "    for shape in shapes:\n",
    "        value = shape[1]\n",
    "        if value > 0:\n",
    "            feature = {'geometry': shape[0], 'properties': {}}\n",
    "            dst.write(feature)\n"
   ]
  }
 ],
 "metadata": {
  "kernelspec": {
   "display_name": "Python 3",
   "language": "python",
   "name": "python3"
  },
  "language_info": {
   "codemirror_mode": {
    "name": "ipython",
    "version": 3
   },
   "file_extension": ".py",
   "mimetype": "text/x-python",
   "name": "python",
   "nbconvert_exporter": "python",
   "pygments_lexer": "ipython3",
   "version": "3.9.16"
  },
  "orig_nbformat": 4
 },
 "nbformat": 4,
 "nbformat_minor": 2
}
