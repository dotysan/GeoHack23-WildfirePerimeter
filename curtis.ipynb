{
 "cells": [
  {
   "attachments": {},
   "cell_type": "markdown",
   "metadata": {},
   "source": [
    "# Dependencies"
   ]
  },
  {
   "cell_type": "code",
   "execution_count": 3,
   "metadata": {},
   "outputs": [],
   "source": [
    "# standard libraries\n",
    "#\n",
    "import os\n",
    "\n",
    "# mathematical and scientific\n",
    "#\n",
    "import numpy as np\n",
    "# import sklearn as skl\n",
    "# from sklearn import cluster\n",
    "\n",
    "# geoprocessing libraries\n",
    "#\n",
    "import shapely as shp\n",
    "import rasterio as rio\n",
    "from rasterio import features\n",
    "from rasterio.plot import show_hist\n",
    "import fiona"
   ]
  },
  {
   "attachments": {},
   "cell_type": "markdown",
   "metadata": {},
   "source": [
    "# Data"
   ]
  },
  {
   "cell_type": "code",
   "execution_count": 4,
   "metadata": {},
   "outputs": [],
   "source": [
    "work_dir = \"./data/\"\n",
    "os.makedirs(work_dir, exist_ok=True)\n",
    "image = f\"{work_dir}LWIR_QuickMosaic_16-bit_9327.tiff\""
   ]
  },
  {
   "attachments": {},
   "cell_type": "markdown",
   "metadata": {},
   "source": [
    "# Classify"
   ]
  },
  {
   "cell_type": "code",
   "execution_count": 5,
   "metadata": {},
   "outputs": [
    {
     "data": {
      "image/png": "[encoded data removed]",
      "text/plain": [
       "<Figure size 640x480 with 1 Axes>"
      ]
     },
     "metadata": {},
     "output_type": "display_data"
    }
   ],
   "source": [
    "def find_best_class(imgfile: str) ->int:\n",
    "    \"\"\"For a given GeoTIFF file, find the best classification threshold.\"\"\"\n",
    "\n",
    "    # TODO: actually do this automatically!\n",
    "    with rio.open(imgfile) as src:\n",
    "        band1 = src.read(1)\n",
    "        profile = src.profile\n",
    "\n",
    "        show_hist(src, bins=1024)\n",
    "\n",
    "    # this was found manually via trial and error below for given test tiff\n",
    "    return 33332\n",
    "\n",
    "\n",
    "# with rio.open(image) as src:\n",
    "#     band1 = src.read(1)\n",
    "#     profile = src.profile\n",
    "\n",
    "#     # for thresh in range(30000, 36000, 1000):\n",
    "#     # for thresh in range(33000, 34000, 100):\n",
    "#     # for thresh in range(33300, 33400, 10):\n",
    "#     for thresh in range(33330, 33340, 1):\n",
    "\n",
    "#         with rio.open(f\"{work_dir}class{thresh}.tif\", 'w', **profile) as dst:\n",
    "#             imgarr = np.where(band1 < thresh, 0, 1)\n",
    "#             # centers, indices = cluster.kmeans_plusplus(imgarr, n_clusters=8, random_state=0)\n",
    "#             # print(len(centers))\n",
    "#             # print(f\"{thresh}: {indices}\")\n",
    "#             dst.write(imgarr.astype(rio.uint8), 1)\n",
    "    \n",
    "#     # hist(src, bins=256, )\n",
    "\n",
    "fire_threshold = find_best_class(image)"
   ]
  },
  {
   "attachments": {},
   "cell_type": "markdown",
   "metadata": {},
   "source": [
    "# Create Polygons"
   ]
  },
  {
   "cell_type": "code",
   "execution_count": 6,
   "metadata": {},
   "outputs": [
    {
     "name": "stdout",
     "output_type": "stream",
     "text": [
      "{'driver': 'GTiff', 'dtype': 'uint16', 'nodata': None, 'width': 5184, 'height': 12800, 'count': 1, 'crs': CRS.from_epsg(4326), 'transform': Affine(1.671045524691221e-05, 0.0, -122.446287,\n",
      "       0.0, -1.2611718749999667e-05, 41.553101000000005), 'blockxsize': 256, 'blockysize': 256, 'tiled': True, 'compress': 'deflate', 'interleave': 'band'}\n"
     ]
    }
   ],
   "source": [
    "best = f\"{work_dir}class{fire_threshold}.tif\"\n",
    "with rio.open(best) as src:\n",
    "    band1 = src.read(1)\n",
    "    profile = src.profile\n",
    "    print(profile)\n",
    "\n",
    "    # Convert the classified raster to polygons\n",
    "    shapes = features.shapes(band1, transform=profile['transform'])\n",
    "\n",
    "with fiona.open(f\"{work_dir}class{fire_threshold}.shp\", 'w', 'ESRI Shapefile',\n",
    "                crs=fiona.crs.from_epsg(4326), # this is needed to create prj file\n",
    "                # crs=fiona.crs.from_epsg(26910), # NAD83 UTM zone 10N THIS FAILS!\n",
    "                schema={'geometry': 'Polygon', 'properties': {}}) as dst:\n",
    "    for shape in shapes:\n",
    "        value = shape[1]\n",
    "        if value > 0:\n",
    "            feature = {'geometry': shape[0], 'properties': {}}\n",
    "            dst.write(feature)"
   ]
  },
  {
   "attachments": {},
   "cell_type": "markdown",
   "metadata": {},
   "source": [
    "# Aggregate Polygons"
   ]
  },
  {
   "cell_type": "code",
   "execution_count": null,
   "metadata": {},
   "outputs": [],
   "source": []
  },
  {
   "cell_type": "code",
   "execution_count": 12,
   "metadata": {},
   "outputs": [
    {
     "name": "stdout",
     "output_type": "stream",
     "text": [
      "['__class__', '__del__', '__delattr__', '__dir__', '__doc__', '__eq__', '__format__', '__ge__', '__getattribute__', '__gt__', '__hash__', '__init__', '__init_subclass__', '__iter__', '__le__', '__lt__', '__name__', '__ne__', '__new__', '__next__', '__qualname__', '__reduce__', '__reduce_ex__', '__repr__', '__setattr__', '__sizeof__', '__str__', '__subclasshook__', 'close', 'gi_code', 'gi_frame', 'gi_running', 'gi_yieldfrom', 'send', 'throw']\n"
     ]
    }
   ],
   "source": [
    "print(dir(shapes))\n",
    "# hull = shp.concave_hull(shapes)"
   ]
  }
 ],
 "metadata": {
  "kernelspec": {
   "display_name": "Python 3",
   "language": "python",
   "name": "python3"
  },
  "language_info": {
   "codemirror_mode": {
    "name": "ipython",
    "version": 3
   },
   "file_extension": ".py",
   "mimetype": "text/x-python",
   "name": "python",
   "nbconvert_exporter": "python",
   "pygments_lexer": "ipython3",
   "version": "3.9.16"
  },
  "orig_nbformat": 4
 },
 "nbformat": 4,
 "nbformat_minor": 2
}
