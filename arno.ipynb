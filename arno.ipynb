{
 "cells": [
  {
   "attachments": {},
   "cell_type": "markdown",
   "id": "2f557e74",
   "metadata": {},
   "source": [
    "# Wildfire"
   ]
  },
  {
   "cell_type": "code",
   "execution_count": 2,
   "id": "9fac7cbe",
   "metadata": {},
   "outputs": [],
   "source": [
    "import os, sys\n",
    "import rasterio"
   ]
  },
  {
   "cell_type": "code",
   "execution_count": 3,
   "id": "26896567",
   "metadata": {},
   "outputs": [],
   "source": [
    "work_dir = \"C:/Users/arno/Downloads/geohack/Flight_9320_20220902_Mills/QuickMosaic\"\n",
    "image = os.path.join(work_dir, \"LWIR_QuickMosaic_16-bit_9320.tiff\")"
   ]
  },
  {
   "cell_type": "code",
   "execution_count": 4,
   "id": "85fcea06",
   "metadata": {},
   "outputs": [],
   "source": [
    "dataset = rasterio.open(image)"
   ]
  },
  {
   "cell_type": "code",
   "execution_count": 7,
   "id": "0b4c099d",
   "metadata": {},
   "outputs": [
    {
     "name": "stdout",
     "output_type": "stream",
     "text": [
      "Name of image: C:/Users/arno/Downloads/geohack/Flight_9320_20220902_Mills/QuickMosaic/LWIR_QuickMosaic_16-bit_9320.tiff\n",
      "Mode of image: r\n",
      "Width of image: 7296\n",
      "Height of image: 9216\n",
      "Bounding Box of image: BoundingBox(left=-122.44475400000002, bottom=41.388737, right=-122.32322799999999, top=41.503769)\n",
      "CRS of image: EPSG:4326\n"
     ]
    }
   ],
   "source": [
    "print(f'Name of image: {dataset.name}')\n",
    "print(f'Mode of image: {dataset.mode}')\n",
    "print(f'Width of image: {dataset.width}')\n",
    "print(f'Height of image: {dataset.height}')\n",
    "print(f'Bounding Box of image: {dataset.bounds}')\n",
    "print(f'CRS of image: {dataset.crs}')"
   ]
  },
  {
   "cell_type": "code",
   "execution_count": null,
   "id": "1738cd7b",
   "metadata": {},
   "outputs": [],
   "source": []
  },
  {
   "cell_type": "code",
   "execution_count": null,
   "id": "f36292da",
   "metadata": {},
   "outputs": [],
   "source": []
  }
 ],
 "metadata": {
  "kernelspec": {
   "display_name": "wildfire",
   "language": "python",
   "name": "python3"
  },
  "language_info": {
   "codemirror_mode": {
    "name": "ipython",
    "version": 3
   },
   "file_extension": ".py",
   "mimetype": "text/x-python",
   "name": "python",
   "nbconvert_exporter": "python",
   "pygments_lexer": "ipython3",
   "version": "3.9.16"
  },
  "vscode": {
   "interpreter": {
    "hash": "d039198f295c0c6d9277871a6238f5256ff558d1bf00a4a28eee16feab5c0a1f"
   }
  }
 },
 "nbformat": 4,
 "nbformat_minor": 5
}
