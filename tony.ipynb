{
 "cells": [
  {
   "cell_type": "code",
   "execution_count": 17,
   "metadata": {},
   "outputs": [
    {
     "ename": "ModuleNotFoundError",
     "evalue": "No module named 'shapefile'",
     "output_type": "error",
     "traceback": [
      "\u001b[1;31m---------------------------------------------------------------------------\u001b[0m",
      "\u001b[1;31mModuleNotFoundError\u001b[0m                       Traceback (most recent call last)",
      "Cell \u001b[1;32mIn[17], line 8\u001b[0m\n\u001b[0;32m      5\u001b[0m \u001b[39mfrom\u001b[39;00m \u001b[39mosgeo\u001b[39;00m \u001b[39mimport\u001b[39;00m gdal\n\u001b[0;32m      6\u001b[0m \u001b[39mfrom\u001b[39;00m \u001b[39mmatplotlib\u001b[39;00m \u001b[39mimport\u001b[39;00m pyplot\n\u001b[1;32m----> 8\u001b[0m \u001b[39mfrom\u001b[39;00m \u001b[39mSpaPy\u001b[39;00m \u001b[39mimport\u001b[39;00m SpaRasters\n",
      "File \u001b[1;32mc:\\Users\\centr\\GeoHack23-WildfirePerimeter\\SpaPy\\SpaRasters.py:60\u001b[0m\n\u001b[0;32m     57\u001b[0m \u001b[39mfrom\u001b[39;00m \u001b[39mosgeo_utils\u001b[39;00m \u001b[39mimport\u001b[39;00m gdal_merge\n\u001b[0;32m     59\u001b[0m \u001b[39m# Spa Libraries\u001b[39;00m\n\u001b[1;32m---> 60\u001b[0m \u001b[39mfrom\u001b[39;00m \u001b[39mSpaPy\u001b[39;00m \u001b[39mimport\u001b[39;00m SpaBase\n\u001b[0;32m     62\u001b[0m \u001b[39m############################################################################\u001b[39;00m\n\u001b[0;32m     63\u001b[0m \u001b[39m# Globals\u001b[39;00m\n\u001b[0;32m     64\u001b[0m \u001b[39m############################################################################\u001b[39;00m\n\u001b[0;32m     66\u001b[0m \u001b[39mclass\u001b[39;00m \u001b[39mSpaDatasetRaster\u001b[39;00m:\n",
      "File \u001b[1;32mc:\\Users\\centr\\GeoHack23-WildfirePerimeter\\SpaPy\\SpaBase.py:129\u001b[0m\n\u001b[0;32m    122\u001b[0m \u001b[39m############################################################################\u001b[39;00m\n\u001b[0;32m    123\u001b[0m \u001b[39m# Utility functions for subclasses\u001b[39;00m\n\u001b[0;32m    124\u001b[0m \u001b[39m############################################################################\u001b[39;00m\n\u001b[0;32m    125\u001b[0m \n\u001b[0;32m    126\u001b[0m \u001b[39m# These modules have to be included after the code above because SpaRasters\u001b[39;00m\n\u001b[0;32m    127\u001b[0m \u001b[39m# and SpaVectors use the code above in defining their classes\u001b[39;00m\n\u001b[0;32m    128\u001b[0m \u001b[39mfrom\u001b[39;00m \u001b[39mSpaPy\u001b[39;00m \u001b[39mimport\u001b[39;00m SpaRasters\n\u001b[1;32m--> 129\u001b[0m \u001b[39mfrom\u001b[39;00m \u001b[39mSpaPy\u001b[39;00m \u001b[39mimport\u001b[39;00m SpaVectors\n\u001b[0;32m    131\u001b[0m \u001b[39mdef\u001b[39;00m \u001b[39mGetInput\u001b[39m(InputFile):\n\u001b[0;32m    132\u001b[0m \u001b[39m\t\u001b[39m\u001b[39m\"\"\" \u001b[39;00m\n\u001b[0;32m    133\u001b[0m \u001b[39m\tReturn an object that can be used for transforming.  This is typically\u001b[39;00m\n\u001b[0;32m    134\u001b[0m \u001b[39m\ta layer object\u001b[39;00m\n\u001b[1;32m   (...)\u001b[0m\n\u001b[0;32m    140\u001b[0m \u001b[39m\t\ta SpaDatasetRaster or SpaDatasetVector object\u001b[39;00m\n\u001b[0;32m    141\u001b[0m \u001b[39m\t\"\"\"\u001b[39;00m\n",
      "File \u001b[1;32mc:\\Users\\centr\\GeoHack23-WildfirePerimeter\\SpaPy\\SpaVectors.py:62\u001b[0m\n\u001b[0;32m     59\u001b[0m \u001b[39mfrom\u001b[39;00m \u001b[39mshapely\u001b[39;00m \u001b[39mimport\u001b[39;00m speedups\n\u001b[0;32m     60\u001b[0m speedups\u001b[39m.\u001b[39mdisable()\n\u001b[1;32m---> 62\u001b[0m \u001b[39mimport\u001b[39;00m \u001b[39mshapefile\u001b[39;00m\n\u001b[0;32m     63\u001b[0m \u001b[39mimport\u001b[39;00m \u001b[39mpyproj\u001b[39;00m\n\u001b[0;32m     65\u001b[0m \u001b[39m# SpaPy libraries\u001b[39;00m\n",
      "\u001b[1;31mModuleNotFoundError\u001b[0m: No module named 'shapefile'"
     ]
    }
   ],
   "source": [
    "import rasterio\n",
    "import shapely\n",
    "import numpy\n",
    "\n",
    "from osgeo import gdal\n",
    "from matplotlib import pyplot\n",
    "\n"
   ]
  },
  {
   "cell_type": "code",
   "execution_count": null,
   "metadata": {},
   "outputs": [],
   "source": [
    "# File Path\n",
    "\n",
    "work_dir =\"Data\"\n",
    "MillsFire=\"C:/Users/centr/GeoHack23-WildfirePerimeter/Data/LWIR_QuickMosaic_16-bit_9327.tiff\""
   ]
  },
  {
   "cell_type": "code",
   "execution_count": null,
   "metadata": {},
   "outputs": [
    {
     "ename": "NameError",
     "evalue": "name 'SpaRasters' is not defined",
     "output_type": "error",
     "traceback": [
      "\u001b[1;31m---------------------------------------------------------------------------\u001b[0m",
      "\u001b[1;31mNameError\u001b[0m                                 Traceback (most recent call last)",
      "Cell \u001b[1;32mIn[16], line 4\u001b[0m\n\u001b[0;32m      1\u001b[0m \u001b[39m# RASTER INFORMATION\u001b[39;00m\n\u001b[0;32m      2\u001b[0m \n\u001b[0;32m      3\u001b[0m \u001b[39m# Define TheDataset with our SpaDatasetRaster function\u001b[39;00m\n\u001b[1;32m----> 4\u001b[0m LWIR_Raster\u001b[39m=\u001b[39mSpaRasters\u001b[39m.\u001b[39mSpaDatasetRaster()  \n\u001b[0;32m      6\u001b[0m \u001b[39m# Load our raster file in as TheDataset     \u001b[39;00m\n\u001b[0;32m      7\u001b[0m LWIR_Raster\u001b[39m.\u001b[39mLoad(MillsFire)      \n",
      "\u001b[1;31mNameError\u001b[0m: name 'SpaRasters' is not defined"
     ]
    }
   ],
   "source": [
    "# RASTER INFORMATION\n",
    "\n",
    "# Define TheDataset with our SpaDatasetRaster function\n",
    "LWIR_Raster=SpaRasters.SpaDatasetRaster()  \n",
    "\n",
    "# Load our raster file in as TheDataset     \n",
    "LWIR_Raster.Load(MillsFire)      \n",
    "\n",
    "# Get the dimensions of the raster in pixels\n",
    "print(\"Width in pixels: \"+format(LWIR_Raster.GetWidthInPixels()))\n",
    "\n",
    "print(\"Height in pixels: \"+format(LWIR_Raster.GetHeightInPixels()))\n",
    "\n",
    "# Get the number of bands of data in the raster (e.g. DEMs have 1, RGB data has 3)\n",
    "print(\"Number of Bands: \"+format(LWIR_Raster.GetNumBands()))\n",
    "\n",
    "# Get the GDAL type of pixels which includes GDT_Int16, GDT_Int32, GDT_Float32 and GDT_Float64\n",
    "print(\"Pixel Type: \"+format(LWIR_Raster.GetType()))\n",
    "\n",
    "# Get the spatial reference\n",
    "print(\"Coordinate Reference System/Spatial Reference: \"+format(LWIR_Raster.GetCRS()))\n",
    "\n",
    "# Get the resolution or dimensions of each pixel in the raster\n",
    "print(\"Resolution (x,y): \"+format(LWIR_Raster.GetResolution()))\n",
    "\n",
    "# Get the spatial bounds of the raster\n",
    "TheBounds=LWIR_Raster.GetBounds()\n",
    "print(\"TheBounds (XMin,YMin,XMax,YMax): \"+format(TheBounds))\n",
    "\n",
    "# Get additional information on the raster\n",
    "TheBandStats=LWIR_Raster.GetBandInfo(1)\n",
    "print(\"TheBandStats=\"+format(TheBandStats))\n",
    "\n",
    "# Get one band of data from the raster\n",
    "TheBand=LWIR_Raster.GetBand(0)\n",
    "print(\"TheBands: \"+format(TheBand))\n",
    "\n",
    "SpaView.Show(LWIR_Raster) # View original raster\n",
    "\n",
    "\n",
    "#####################################################################\n",
    "\n",
    "# CLIP TO SPECIFIED BOUNDS\n",
    "\n",
    "# Use SpaRaster Crop tool and input raster for clip and desired bounds\n",
    "ClippedRaster=SpaRasters.Crop(LWIR_Raster,[-122.415767,41.40831,-122.37479,41.5014]) # Bounds set for SpaView. Actual bounds dont view properly and are set later.\n",
    "ClippedRaster.Save(TempFolderPath3+\"Cropped.tif\") # Save Result\n",
    "SpaView.Show(ClippedRaster) # View Fire Area\n",
    "\n",
    "\n",
    "#####################################################################"
   ]
  }
 ],
 "metadata": {
  "kernelspec": {
   "display_name": "wildfire",
   "language": "python",
   "name": "python3"
  },
  "language_info": {
   "codemirror_mode": {
    "name": "ipython",
    "version": 3
   },
   "file_extension": ".py",
   "mimetype": "text/x-python",
   "name": "python",
   "nbconvert_exporter": "python",
   "pygments_lexer": "ipython3",
   "version": "3.9.16"
  },
  "orig_nbformat": 4
 },
 "nbformat": 4,
 "nbformat_minor": 2
}
