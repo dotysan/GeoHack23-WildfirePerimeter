{
 "cells": [
  {
   "cell_type": "code",
   "execution_count": 48,
   "metadata": {},
   "outputs": [],
   "source": [
    "import os\n",
    "import rasterio\n",
    "import shapely\n",
    "import numpy as np\n",
    "\n",
    "from matplotlib import pyplot\n",
    "\n"
   ]
  },
  {
   "cell_type": "code",
   "execution_count": 56,
   "metadata": {},
   "outputs": [],
   "source": [
    "# File Path\n",
    "\n",
    "work_dir = \"./data/\"\n",
    "image = os.path.join(work_dir, \"LWIR_QuickMosaic_16-bit_9327.tiff\")\n",
    "# work_dir =\"Data\"\n",
    "# MillsFire=\"C:/Users/centr/GeoHack23-WildfirePerimeter/Data/LWIR_QuickMosaic_16-bit_9327.tiff\"\n",
    "OutputFilePath =\"./data/\""
   ]
  },
  {
   "cell_type": "code",
   "execution_count": 57,
   "metadata": {},
   "outputs": [],
   "source": [
    "# Open the raster file using rasterio\n",
    "with rasterio.open(image) as src:\n",
    "    # Read the raster data and metadata\n",
    "    raster_data = src.read(1)  # Read the first band of the raster\n",
    "    raster_meta = src.meta\n",
    "\n",
    "    # Classify the raster data\n",
    "    classified_data = np.where(raster_data < 35000, 0, 1)\n",
    "\n",
    "# Update the metadata with the new data type and nodata value\n",
    "raster_meta.update(dtype=rasterio.uint8, nodata=None)\n",
    "\n",
    "# Write the classified raster to a new file\n",
    "with rasterio.open(OutputFilePath + 'RasterClass.tif', 'w', **raster_meta) as dst:\n",
    "    dst.write(classified_data.astype(rasterio.int16), 1)\n"
   ]
  },
  {
   "cell_type": "code",
   "execution_count": 60,
   "metadata": {},
   "outputs": [
    {
     "data": {
      "image/png": "[encoded data removed]",
      "text/plain": [
       "<Figure size 640x480 with 1 Axes>"
      ]
     },
     "metadata": {},
     "output_type": "display_data"
    }
   ],
   "source": [
    "import rasterio\n",
    "from rasterio import features\n",
    "import fiona\n",
    "import matplotlib.pyplot as plt\n",
    "\n",
    "# Open the raster file using rasterio\n",
    "with rasterio.open(image) as src:\n",
    "    # Read the raster data and metadata\n",
    "    raster_data = src.read(1)  # Read the first band of the raster\n",
    "    raster_meta = src.meta\n",
    "\n",
    "    # Classify the raster data\n",
    "    classified_data = np.where(raster_data < 35000, 0, 1)\n",
    "\n",
    "# Update the metadata with the new data type and nodata value\n",
    "raster_meta.update(dtype=rasterio.int16, nodata=None)\n",
    "\n",
    "# Write the classified raster to a new file\n",
    "with rasterio.open(OutputFilePath + 'RasterClass.tif', 'w', **raster_meta) as dst:\n",
    "    dst.write(classified_data, 1)\n",
    "\n",
    "# Convert the classified raster to polygons\n",
    "shapes = features.shapes(classified_data, transform=raster_meta['transform'])\n",
    "\n",
    "# Write the polygons to a shapefile\n",
    "with fiona.open(OutputFilePath + 'RasterClass.shp', 'w', 'ESRI Shapefile', schema={'geometry': 'Polygon', 'properties': {}}) as dst:\n",
    "    for shape in shapes:\n",
    "        value = shape[1]\n",
    "        if value > 0:\n",
    "            feature = {'geometry': shape[0], 'properties': {}}\n",
    "            dst.write(feature)\n",
    "\n",
    "# (Optional) Display the polygons using matplotlib\n",
    "with fiona.open(OutputFilePath + 'RasterClass.shp', 'r') as src:\n",
    "    for i, layer in enumerate(src):\n",
    "        if i == 0:\n",
    "            x, y = [], []\n",
    "            for poly in layer['geometry']['coordinates']:\n",
    "                x += [pt[0] for pt in poly]\n",
    "                y += [pt[1] for pt in poly]\n",
    "            plt.plot(x, y, 'k.')\n",
    "            plt.axis('equal')\n",
    "            plt.show()\n"
   ]
  }
 ],
 "metadata": {
  "kernelspec": {
   "display_name": "wildfire",
   "language": "python",
   "name": "python3"
  },
  "language_info": {
   "codemirror_mode": {
    "name": "ipython",
    "version": 3
   },
   "file_extension": ".py",
   "mimetype": "text/x-python",
   "name": "python",
   "nbconvert_exporter": "python",
   "pygments_lexer": "ipython3",
   "version": "3.9.16"
  },
  "orig_nbformat": 4
 },
 "nbformat": 4,
 "nbformat_minor": 2
}
