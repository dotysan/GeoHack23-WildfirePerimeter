{
 "cells": [
  {
   "cell_type": "code",
   "execution_count": 28,
   "metadata": {},
   "outputs": [],
   "source": [
    "import os\n",
    "import rasterio\n",
    "import shapely\n",
    "import numpy as np\n",
    "\n",
    "from matplotlib import pyplot\n",
    "\n"
   ]
  },
  {
   "cell_type": "code",
   "execution_count": 33,
   "metadata": {},
   "outputs": [],
   "source": [
    "# File Path\n",
    "\n",
    "work_dir = \"./data/\"\n",
    "image = os.path.join(work_dir, \"LWIR_QuickMosaic_16-bit_9327.tiff\")\n",
    "# work_dir =\"Data\"\n",
    "# MillsFire=\"C:/Users/centr/GeoHack23-WildfirePerimeter/Data/LWIR_QuickMosaic_16-bit_9327.tiff\"\n",
    "OutputFilePath =\"./data/\""
   ]
  },
  {
   "cell_type": "code",
   "execution_count": 34,
   "metadata": {},
   "outputs": [],
   "source": [
    "# Open the raster file using rasterio\n",
    "with rasterio.open(image) as src:\n",
    "    # Read the raster data and metadata\n",
    "    raster_data = src.read(1)  # Read the first band of the raster\n",
    "    raster_meta = src.meta\n",
    "\n",
    "    # Classify the raster data\n",
    "    classified_data = np.where(raster_data < 35000, 0, 1)\n",
    "\n",
    "# Update the metadata with the new data type and nodata value\n",
    "raster_meta.update(dtype=rasterio.uint8, nodata=None)\n",
    "\n",
    "# Write the classified raster to a new file\n",
    "with rasterio.open(OutputFilePath + 'RasterClass.tif', 'w', **raster_meta) as dst:\n",
    "    dst.write(classified_data.astype(rasterio.uint8), 1)\n"
   ]
  }
 ],
 "metadata": {
  "kernelspec": {
   "display_name": "wildfire",
   "language": "python",
   "name": "python3"
  },
  "language_info": {
   "codemirror_mode": {
    "name": "ipython",
    "version": 3
   },
   "file_extension": ".py",
   "mimetype": "text/x-python",
   "name": "python",
   "nbconvert_exporter": "python",
   "pygments_lexer": "ipython3",
   "version": "3.9.16"
  },
  "orig_nbformat": 4
 },
 "nbformat": 4,
 "nbformat_minor": 2
}
